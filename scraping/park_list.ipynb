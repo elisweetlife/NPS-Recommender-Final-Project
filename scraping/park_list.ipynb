{
 "cells": [
  {
   "cell_type": "code",
   "execution_count": 34,
   "metadata": {},
   "outputs": [],
   "source": [
    "# Dependencies\n",
    "import requests\n",
    "from pprint import pprint\n",
    "import pandas as pd\n",
    "\n"
   ]
  },
  {
   "cell_type": "code",
   "execution_count": 35,
   "metadata": {},
   "outputs": [],
   "source": [
    "# Store NPS API\n",
    "apiKey = \"TyuZrBgyshbHS2txyIXVovjDPtLAp8jYUJPSa1hf\""
   ]
  },
  {
   "cell_type": "code",
   "execution_count": 36,
   "metadata": {},
   "outputs": [],
   "source": [
    "numberList = [\"1\",\"50\",\"99\",\"148\",\"197\",\"246\",\"295\",\"344\",\"393\",\"442\",\"491\"]"
   ]
  },
  {
   "cell_type": "code",
   "execution_count": 37,
   "metadata": {},
   "outputs": [],
   "source": [
    "# Initialize empty lists for storing park data\n",
    "designation = []\n",
    "fullName = []\n",
    "name = []\n",
    "parkCode = []\n",
    "states = []\n",
    "url = []"
   ]
  },
  {
   "cell_type": "code",
   "execution_count": 38,
   "metadata": {},
   "outputs": [
    {
     "name": "stdout",
     "output_type": "stream",
     "text": [
      "<class 'list'>\n",
      "50\n",
      "<class 'list'>\n",
      "50\n",
      "<class 'list'>\n",
      "50\n",
      "<class 'list'>\n",
      "50\n",
      "<class 'list'>\n",
      "50\n",
      "<class 'list'>\n",
      "50\n",
      "<class 'list'>\n",
      "50\n",
      "<class 'list'>\n",
      "50\n",
      "<class 'list'>\n",
      "50\n",
      "<class 'list'>\n",
      "50\n",
      "<class 'list'>\n",
      "7\n"
     ]
    }
   ],
   "source": [
    "for iteration in numberList:\n",
    "    queryUrl = \"https://developer.nps.gov/api/v1/parks?start=\" + iteration + \"&api_key=\" + apiKey\n",
    "    response = requests.get(queryUrl).json()\n",
    "    park_list = response[\"data\"]\n",
    "    print(list)\n",
    "    print(len(park_list))\n",
    "          \n",
    "    for park in park_list:\n",
    "        designation.append(park[\"designation\"])\n",
    "        fullName.append(park[\"fullName\"])\n",
    "        name.append(park[\"name\"])\n",
    "        parkCode.append(park[\"parkCode\"])\n",
    "        states.append(park[\"states\"])\n",
    "        url.append(park[\"url\"])"
   ]
  },
  {
   "cell_type": "code",
   "execution_count": 39,
   "metadata": {},
   "outputs": [
    {
     "data": {
      "text/html": [
       "<div>\n",
       "<style scoped>\n",
       "    .dataframe tbody tr th:only-of-type {\n",
       "        vertical-align: middle;\n",
       "    }\n",
       "\n",
       "    .dataframe tbody tr th {\n",
       "        vertical-align: top;\n",
       "    }\n",
       "\n",
       "    .dataframe thead th {\n",
       "        text-align: right;\n",
       "    }\n",
       "</style>\n",
       "<table border=\"1\" class=\"dataframe\">\n",
       "  <thead>\n",
       "    <tr style=\"text-align: right;\">\n",
       "      <th></th>\n",
       "      <th>fullName</th>\n",
       "      <th>name</th>\n",
       "      <th>parkCode</th>\n",
       "      <th>designation</th>\n",
       "      <th>states</th>\n",
       "      <th>url</th>\n",
       "    </tr>\n",
       "  </thead>\n",
       "  <tbody>\n",
       "    <tr>\n",
       "      <td>0</td>\n",
       "      <td>African American Civil War Memorial</td>\n",
       "      <td>African American Civil War Memorial</td>\n",
       "      <td>afam</td>\n",
       "      <td></td>\n",
       "      <td>DC</td>\n",
       "      <td>https://www.nps.gov/afam/index.htm</td>\n",
       "    </tr>\n",
       "    <tr>\n",
       "      <td>1</td>\n",
       "      <td>Augusta Canal National Heritage Area</td>\n",
       "      <td>Augusta Canal</td>\n",
       "      <td>auca</td>\n",
       "      <td>National Heritage Area</td>\n",
       "      <td>GA</td>\n",
       "      <td>https://www.nps.gov/auca/index.htm</td>\n",
       "    </tr>\n",
       "    <tr>\n",
       "      <td>2</td>\n",
       "      <td>Belmont-Paul Women's Equality National Monument</td>\n",
       "      <td>Belmont-Paul Women's Equality</td>\n",
       "      <td>bepa</td>\n",
       "      <td>National Monument</td>\n",
       "      <td>DC</td>\n",
       "      <td>https://www.nps.gov/bepa/index.htm</td>\n",
       "    </tr>\n",
       "    <tr>\n",
       "      <td>3</td>\n",
       "      <td>Big Cypress National Preserve</td>\n",
       "      <td>Big Cypress</td>\n",
       "      <td>bicy</td>\n",
       "      <td>National Preserve</td>\n",
       "      <td>FL</td>\n",
       "      <td>https://www.nps.gov/bicy/index.htm</td>\n",
       "    </tr>\n",
       "    <tr>\n",
       "      <td>4</td>\n",
       "      <td>Bryce Canyon National Park</td>\n",
       "      <td>Bryce Canyon</td>\n",
       "      <td>brca</td>\n",
       "      <td>National Park</td>\n",
       "      <td>UT</td>\n",
       "      <td>https://www.nps.gov/brca/index.htm</td>\n",
       "    </tr>\n",
       "  </tbody>\n",
       "</table>\n",
       "</div>"
      ],
      "text/plain": [
       "                                          fullName  \\\n",
       "0              African American Civil War Memorial   \n",
       "1             Augusta Canal National Heritage Area   \n",
       "2  Belmont-Paul Women's Equality National Monument   \n",
       "3                    Big Cypress National Preserve   \n",
       "4                       Bryce Canyon National Park   \n",
       "\n",
       "                                  name parkCode             designation  \\\n",
       "0  African American Civil War Memorial     afam                           \n",
       "1                        Augusta Canal     auca  National Heritage Area   \n",
       "2        Belmont-Paul Women's Equality     bepa       National Monument   \n",
       "3                          Big Cypress     bicy       National Preserve   \n",
       "4                         Bryce Canyon     brca           National Park   \n",
       "\n",
       "  states                                 url  \n",
       "0     DC  https://www.nps.gov/afam/index.htm  \n",
       "1     GA  https://www.nps.gov/auca/index.htm  \n",
       "2     DC  https://www.nps.gov/bepa/index.htm  \n",
       "3     FL  https://www.nps.gov/bicy/index.htm  \n",
       "4     UT  https://www.nps.gov/brca/index.htm  "
      ]
     },
     "execution_count": 39,
     "metadata": {},
     "output_type": "execute_result"
    }
   ],
   "source": [
    "park_dict = {\n",
    "    \"fullName\": fullName,\n",
    "    \"name\": name,\n",
    "    \"parkCode\": parkCode,\n",
    "    \"designation\": designation,\n",
    "    \"states\": states,\n",
    "    \"url\": url\n",
    "}\n",
    "park_data = pd.DataFrame(park_dict)\n",
    "park_data.head()"
   ]
  },
  {
   "cell_type": "code",
   "execution_count": 41,
   "metadata": {},
   "outputs": [],
   "source": [
    "park_data.to_csv(\"parks.csv\")"
   ]
  },
  {
   "cell_type": "code",
   "execution_count": null,
   "metadata": {},
   "outputs": [],
   "source": []
  }
 ],
 "metadata": {
  "kernelspec": {
   "display_name": "Python 3",
   "language": "python",
   "name": "python3"
  },
  "language_info": {
   "codemirror_mode": {
    "name": "ipython",
    "version": 3
   },
   "file_extension": ".py",
   "mimetype": "text/x-python",
   "name": "python",
   "nbconvert_exporter": "python",
   "pygments_lexer": "ipython3",
   "version": "3.7.4"
  }
 },
 "nbformat": 4,
 "nbformat_minor": 2
}
